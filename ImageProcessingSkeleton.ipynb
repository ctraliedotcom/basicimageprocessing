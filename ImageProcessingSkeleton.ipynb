{
 "cells": [
  {
   "cell_type": "markdown",
   "metadata": {},
   "source": [
    "# 2D Arrays / Images in Numpy/Python\n",
    "## Chris Tralie\n",
    "\n",
    "First do all imports and download images we'll be using"
   ]
  },
  {
   "cell_type": "code",
   "execution_count": null,
   "metadata": {},
   "outputs": [],
   "source": [
    "!pip install scikit-image\n",
    "from IPython.display import IFrame\n",
    "import numpy as np # This is the main numerical library we will use\n",
    "import matplotlib.pyplot as plt # This is the main plotting library we will use\n",
    "import skimage # A library for doing some extra stuff with image processing\n",
    "import skimage.io\n",
    "import os\n",
    "import shutil\n",
    "\n",
    "## Cleanup files left behind on colab from a previous session\n",
    "for f in [\"ImageProcessing.ipynb\", \"main.zip\", \"LICENSE\", \"imgpropics\", \"basicimageprocessing-main\"]:\n",
    "    if os.path.exists(f):\n",
    "        if os.path.isfile(f):\n",
    "            os.remove(f)\n",
    "        else:\n",
    "            shutil.rmtree(f)\n",
    "            \n",
    "!wget https://github.com/ctraliedotcom/basicimageprocessing/archive/refs/heads/main.zip\n",
    "!unzip main.zip\n",
    "!mkdir imgpropics\n",
    "!mv basicimageprocessing-main/pics/* imgpropics"
   ]
  },
  {
   "cell_type": "markdown",
   "metadata": {},
   "source": [
    "## 2D Arrays\n",
    "First, it's possible to have lists of lists in Python, and they can contain <i>heterogenous</i> collections of elements.  So, for instance, some of the elements of a list can be lists, others can be single elements, and others can be strings"
   ]
  },
  {
   "cell_type": "code",
   "execution_count": null,
   "metadata": {},
   "outputs": [],
   "source": [
    "# Show list of lists, np.zeros with tuple\n"
   ]
  },
  {
   "cell_type": "code",
   "execution_count": null,
   "metadata": {},
   "outputs": [],
   "source": [
    "# Show numpy random array"
   ]
  },
  {
   "cell_type": "code",
   "execution_count": null,
   "metadata": {
    "scrolled": true
   },
   "outputs": [],
   "source": [
    "# Show slicing commands, make smiley face"
   ]
  },
  {
   "cell_type": "code",
   "execution_count": null,
   "metadata": {},
   "outputs": [],
   "source": [
    "# Show flatten on smiley"
   ]
  },
  {
   "cell_type": "markdown",
   "metadata": {},
   "source": [
    "## RGB Images\n",
    "\n",
    "Next, we discuss color images, which are actually <i>3D arrays</i>.  This is because they have a third dimension for color.  Humans perceive color in 3D, so there are 3 channels: red (0), green (1), and blue (2)"
   ]
  },
  {
   "cell_type": "code",
   "execution_count": null,
   "metadata": {},
   "outputs": [],
   "source": [
    "IFrame(\"http://www.ctralie.com/VirtualCities/color.html\", 200, 200)"
   ]
  },
  {
   "cell_type": "code",
   "execution_count": null,
   "metadata": {},
   "outputs": [],
   "source": [
    "# Load in image, show shape command\n",
    "X = skimage.io.imread(\"imgpropics/mandrill.png\")\n"
   ]
  },
  {
   "cell_type": "code",
   "execution_count": null,
   "metadata": {},
   "outputs": [],
   "source": [
    "# Show different channels, swap red/green"
   ]
  },
  {
   "cell_type": "code",
   "execution_count": null,
   "metadata": {},
   "outputs": [],
   "source": [
    "# Put red box over mandrill's eye"
   ]
  },
  {
   "cell_type": "code",
   "execution_count": null,
   "metadata": {},
   "outputs": [],
   "source": [
    "# Use 0.2125R + 0.7154G + 0.0721B to convert to grayscale"
   ]
  },
  {
   "cell_type": "markdown",
   "metadata": {},
   "source": [
    "## Aliasing / Moiré Patterns"
   ]
  },
  {
   "cell_type": "markdown",
   "metadata": {},
   "source": [
    "We can use slices to do specific transformations to images.  For example, we can reverse all of the rows to flip the image vertically"
   ]
  },
  {
   "cell_type": "code",
   "execution_count": null,
   "metadata": {},
   "outputs": [],
   "source": [
    "X = skimage.io.imread(\"imgpropics/mandrill.png\")\n",
    "# Show flipping image upside down"
   ]
  },
  {
   "cell_type": "code",
   "execution_count": null,
   "metadata": {},
   "outputs": [],
   "source": [
    "# Show taking every other row"
   ]
  },
  {
   "cell_type": "code",
   "execution_count": null,
   "metadata": {},
   "outputs": [],
   "source": [
    "# Show aliasing\n",
    "X = skimage.io.imread(\"imgpropics/hand-tattoos-hold-man.jpg\")"
   ]
  },
  {
   "cell_type": "markdown",
   "metadata": {},
   "source": [
    "Here's another example with more regular stripes"
   ]
  },
  {
   "cell_type": "code",
   "execution_count": null,
   "metadata": {},
   "outputs": [],
   "source": [
    "# Show aliasing / Moire pattern\n",
    "X = skimage.io.imread(\"imgpropics/Stripes.jpg\")"
   ]
  },
  {
   "cell_type": "markdown",
   "metadata": {},
   "source": [
    "## Quantization / Dithering\n",
    "As our last application, we explore a technique for drawing grayscale images with only pure white or pure black ink, which is useful for newspaper printing (for example).  First, let's load in an image and convert it to grayscale"
   ]
  },
  {
   "cell_type": "code",
   "execution_count": null,
   "metadata": {},
   "outputs": [],
   "source": [
    "X = skimage.io.imread(\"imgpropics/CeliaDarcy.png\")\n",
    "X = 0.2125*X[:, :, 0] + 0.7154*X[:, :, 1] + 0.0721*X[:, :, 2]\n",
    "plt.figure(figsize=(6, 10))\n",
    "plt.imshow(X, cmap='gray')"
   ]
  },
  {
   "cell_type": "markdown",
   "metadata": {},
   "source": [
    "Next, we'll round every pixel with a grayscale value above 127 to 255 (pure white), and we'll round every pixel with a grayscale value below 127 to 0 (pure black)"
   ]
  },
  {
   "cell_type": "code",
   "execution_count": null,
   "metadata": {},
   "outputs": [],
   "source": [
    "# Round pixels above 127 to 255 and below to 0"
   ]
  },
  {
   "cell_type": "code",
   "execution_count": null,
   "metadata": {},
   "outputs": [],
   "source": [
    "# Add uniform noise of 0.25 before doing that"
   ]
  },
  {
   "cell_type": "markdown",
   "metadata": {},
   "source": [
    "# Least Significant Bit Image Steganography"
   ]
  },
  {
   "cell_type": "code",
   "execution_count": null,
   "metadata": {},
   "outputs": [],
   "source": [
    "# Show what happens rounding even/odd"
   ]
  },
  {
   "cell_type": "code",
   "execution_count": null,
   "metadata": {},
   "outputs": [],
   "source": [
    "# Talk about ascii representations of characters"
   ]
  },
  {
   "cell_type": "code",
   "execution_count": null,
   "metadata": {},
   "outputs": [],
   "source": [
    "# Make get_bin_char method"
   ]
  },
  {
   "cell_type": "code",
   "execution_count": null,
   "metadata": {},
   "outputs": [],
   "source": [
    "# Make encoding procedure"
   ]
  },
  {
   "cell_type": "code",
   "execution_count": null,
   "metadata": {},
   "outputs": [],
   "source": [
    "# Make decoding procedure"
   ]
  }
 ],
 "metadata": {
  "kernelspec": {
   "display_name": "Python 3 (ipykernel)",
   "language": "python",
   "name": "python3"
  },
  "language_info": {
   "codemirror_mode": {
    "name": "ipython",
    "version": 3
   },
   "file_extension": ".py",
   "mimetype": "text/x-python",
   "name": "python",
   "nbconvert_exporter": "python",
   "pygments_lexer": "ipython3",
   "version": "3.11.3"
  }
 },
 "nbformat": 4,
 "nbformat_minor": 2
}
